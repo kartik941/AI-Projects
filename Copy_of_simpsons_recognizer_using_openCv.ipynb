{
  "metadata": {
    "kernelspec": {
      "language": "python",
      "display_name": "Python 3",
      "name": "python3"
    },
    "language_info": {
      "name": "python",
      "version": "3.11.13",
      "mimetype": "text/x-python",
      "codemirror_mode": {
        "name": "ipython",
        "version": 3
      },
      "pygments_lexer": "ipython3",
      "nbconvert_exporter": "python",
      "file_extension": ".py"
    },
    "kaggle": {
      "accelerator": "nvidiaTeslaT4",
      "dataSources": [
        {
          "sourceId": 27569,
          "sourceType": "datasetVersion",
          "datasetId": 1408
        }
      ],
      "dockerImageVersionId": 31089,
      "isInternetEnabled": true,
      "language": "python",
      "sourceType": "notebook",
      "isGpuEnabled": true
    },
    "colab": {
      "provenance": [],
      "include_colab_link": true
    }
  },
  "nbformat_minor": 0,
  "nbformat": 4,
  "cells": [
    {
      "cell_type": "markdown",
      "metadata": {
        "id": "view-in-github",
        "colab_type": "text"
      },
      "source": [
        "<a href=\"https://colab.research.google.com/github/kartik941/AI-Projects/blob/main/Copy_of_simpsons_recognizer_using_openCv.ipynb\" target=\"_parent\"><img src=\"https://colab.research.google.com/assets/colab-badge.svg\" alt=\"Open In Colab\"/></a>"
      ]
    },
    {
      "source": [
        "# IMPORTANT: RUN THIS CELL IN ORDER TO IMPORT YOUR KAGGLE DATA SOURCES,\n",
        "# THEN FEEL FREE TO DELETE THIS CELL.\n",
        "# NOTE: THIS NOTEBOOK ENVIRONMENT DIFFERS FROM KAGGLE'S PYTHON\n",
        "# ENVIRONMENT SO THERE MAY BE MISSING LIBRARIES USED BY YOUR\n",
        "# NOTEBOOK.\n",
        "import kagglehub\n",
        "alexattia_the_simpsons_characters_dataset_path = kagglehub.dataset_download('alexattia/the-simpsons-characters-dataset')\n",
        "\n",
        "print('Data source import complete.')\n"
      ],
      "metadata": {
        "id": "sEbnnzX9_cI7"
      },
      "cell_type": "code",
      "outputs": [],
      "execution_count": null
    },
    {
      "cell_type": "code",
      "source": [
        "# This Python 3 environment comes with many helpful analytics libraries installed\n",
        "# It is defined by the kaggle/python Docker image: https://github.com/kaggle/docker-python\n",
        "# For example, here's several helpful packages to load\n",
        "\n",
        "import numpy as np # linear algebra\n",
        "import pandas as pd # data processing, CSV file I/O (e.g. pd.read_csv)\n",
        "\n",
        "# Input data files are available in the read-only \"../input/\" directory\n",
        "# For example, running this (by clicking run or pressing Shift+Enter) will list all files under the input directory\n",
        "\n",
        "import os\n",
        "for dirname, _, filenames in os.walk('/kaggle/input'):\n",
        "    for filename in filenames:\n",
        "        print(os.path.join(dirname, filename))\n",
        "\n",
        "# You can write up to 20GB to the current directory (/kaggle/working/) that gets preserved as output when you create a version using \"Save & Run All\"\n",
        "# You can also write temporary files to /kaggle/temp/, but they won't be saved outside of the current session"
      ],
      "metadata": {
        "_uuid": "8f2839f25d086af736a60e9eeb907d3b93b6e0e5",
        "_cell_guid": "b1076dfc-b9ad-4769-8c92-a6c4dae69d19",
        "trusted": true,
        "execution": {
          "iopub.status.busy": "2025-08-05T18:11:15.927655Z",
          "iopub.execute_input": "2025-08-05T18:11:15.9279Z",
          "iopub.status.idle": "2025-08-05T18:13:14.645591Z",
          "shell.execute_reply.started": "2025-08-05T18:11:15.927881Z",
          "shell.execute_reply": "2025-08-05T18:13:14.644746Z"
        },
        "id": "2npiiIPE_cJC"
      },
      "outputs": [],
      "execution_count": null
    },
    {
      "cell_type": "code",
      "source": [
        "!pip install caer canaro"
      ],
      "metadata": {
        "trusted": true,
        "execution": {
          "iopub.status.busy": "2025-08-05T18:13:14.646603Z",
          "iopub.execute_input": "2025-08-05T18:13:14.647503Z",
          "iopub.status.idle": "2025-08-05T18:13:21.693178Z",
          "shell.execute_reply.started": "2025-08-05T18:13:14.647476Z",
          "shell.execute_reply": "2025-08-05T18:13:21.692521Z"
        },
        "id": "FQjSkP1-_cJD"
      },
      "outputs": [],
      "execution_count": null
    },
    {
      "cell_type": "code",
      "source": [
        "import os\n",
        "import caer\n",
        "import canaro\n",
        "import numpy as np\n",
        "import cv2 as cv\n",
        "import gc"
      ],
      "metadata": {
        "trusted": true,
        "execution": {
          "iopub.status.busy": "2025-08-05T18:13:21.694218Z",
          "iopub.execute_input": "2025-08-05T18:13:21.694503Z",
          "iopub.status.idle": "2025-08-05T18:13:36.838877Z",
          "shell.execute_reply.started": "2025-08-05T18:13:21.694472Z",
          "shell.execute_reply": "2025-08-05T18:13:36.838171Z"
        },
        "id": "ynZAqXnQ_cJE"
      },
      "outputs": [],
      "execution_count": null
    },
    {
      "cell_type": "code",
      "source": [
        "IMG_SIZE = (80,80)\n",
        "channels =  1\n",
        "char_path = r'/kaggle/input/the-simpsons-characters-dataset/simpsons_dataset'"
      ],
      "metadata": {
        "trusted": true,
        "execution": {
          "iopub.status.busy": "2025-08-05T18:13:36.8406Z",
          "iopub.execute_input": "2025-08-05T18:13:36.841062Z",
          "iopub.status.idle": "2025-08-05T18:13:36.844835Z",
          "shell.execute_reply.started": "2025-08-05T18:13:36.841043Z",
          "shell.execute_reply": "2025-08-05T18:13:36.844016Z"
        },
        "id": "-AJsN-Jn_cJF"
      },
      "outputs": [],
      "execution_count": null
    },
    {
      "cell_type": "code",
      "source": [
        "char_dict = {}\n",
        "for char in os.listdir(char_path):\n",
        "    char_dict[char] = len(os.listdir(os.path.join(char_path,char)))\n",
        "char_dict = caer.sort_dict(char_dict, descending=True)\n",
        "char_dict"
      ],
      "metadata": {
        "trusted": true,
        "execution": {
          "iopub.status.busy": "2025-08-05T18:13:36.845764Z",
          "iopub.execute_input": "2025-08-05T18:13:36.846069Z",
          "iopub.status.idle": "2025-08-05T18:13:36.917559Z",
          "shell.execute_reply.started": "2025-08-05T18:13:36.846043Z",
          "shell.execute_reply": "2025-08-05T18:13:36.916934Z"
        },
        "id": "aRLmfrq1_cJG"
      },
      "outputs": [],
      "execution_count": null
    },
    {
      "cell_type": "code",
      "source": [
        "charachters = []\n",
        "count = 0\n",
        "for i in char_dict:\n",
        "    charachters.append(i[0])\n",
        "    count+=1\n",
        "    if count>=10:\n",
        "        break\n",
        "charachters"
      ],
      "metadata": {
        "trusted": true,
        "execution": {
          "iopub.status.busy": "2025-08-05T18:13:36.918205Z",
          "iopub.execute_input": "2025-08-05T18:13:36.918451Z",
          "iopub.status.idle": "2025-08-05T18:13:36.924513Z",
          "shell.execute_reply.started": "2025-08-05T18:13:36.91843Z",
          "shell.execute_reply": "2025-08-05T18:13:36.923875Z"
        },
        "id": "pjuV_Paj_cJG"
      },
      "outputs": [],
      "execution_count": null
    },
    {
      "cell_type": "code",
      "source": [
        "train = caer.preprocess_from_dir(char_path,charachters,channels=channels, IMG_SIZE=IMG_SIZE,isShuffle=True)"
      ],
      "metadata": {
        "trusted": true,
        "execution": {
          "iopub.status.busy": "2025-08-05T18:13:36.925246Z",
          "iopub.execute_input": "2025-08-05T18:13:36.925506Z",
          "iopub.status.idle": "2025-08-05T18:15:54.585624Z",
          "shell.execute_reply.started": "2025-08-05T18:13:36.925484Z",
          "shell.execute_reply": "2025-08-05T18:15:54.584815Z"
        },
        "id": "0KM08X00_cJH"
      },
      "outputs": [],
      "execution_count": null
    },
    {
      "cell_type": "code",
      "source": [
        "import matplotlib.pyplot as plt\n",
        "plt.figure(figsize=(30,30))\n",
        "plt.imshow(train[0][0],cmap= 'gray')\n",
        "plt.show()"
      ],
      "metadata": {
        "trusted": true,
        "execution": {
          "iopub.status.busy": "2025-08-05T18:15:54.586504Z",
          "iopub.execute_input": "2025-08-05T18:15:54.587022Z",
          "iopub.status.idle": "2025-08-05T18:15:55.579798Z",
          "shell.execute_reply.started": "2025-08-05T18:15:54.586993Z",
          "shell.execute_reply": "2025-08-05T18:15:55.579066Z"
        },
        "id": "IP999CkI_cJI"
      },
      "outputs": [],
      "execution_count": null
    },
    {
      "cell_type": "code",
      "source": [
        "featureset, labels =caer.sep_train(train,IMG_SIZE = IMG_SIZE)"
      ],
      "metadata": {
        "trusted": true,
        "execution": {
          "iopub.status.busy": "2025-08-05T18:15:55.580443Z",
          "iopub.execute_input": "2025-08-05T18:15:55.580648Z",
          "iopub.status.idle": "2025-08-05T18:15:55.631822Z",
          "shell.execute_reply.started": "2025-08-05T18:15:55.580632Z",
          "shell.execute_reply": "2025-08-05T18:15:55.631037Z"
        },
        "id": "rXfuxlzv_cJI"
      },
      "outputs": [],
      "execution_count": null
    },
    {
      "cell_type": "code",
      "source": [
        "from tensorflow.keras.utils import to_categorical\n",
        "featureset =caer.normalize(featureset)\n",
        "labels = to_categorical(labels,len(charachters))\n"
      ],
      "metadata": {
        "trusted": true,
        "execution": {
          "iopub.status.busy": "2025-08-05T18:15:55.634084Z",
          "iopub.execute_input": "2025-08-05T18:15:55.634308Z",
          "iopub.status.idle": "2025-08-05T18:15:55.818743Z",
          "shell.execute_reply.started": "2025-08-05T18:15:55.63429Z",
          "shell.execute_reply": "2025-08-05T18:15:55.817883Z"
        },
        "id": "wstYBy1S_cJJ"
      },
      "outputs": [],
      "execution_count": null
    },
    {
      "cell_type": "code",
      "source": [
        "x_train ,x_val, y_train, y_val = caer.train_val_split(featureset, labels, val_ratio = .2)"
      ],
      "metadata": {
        "trusted": true,
        "execution": {
          "iopub.status.busy": "2025-08-05T18:15:55.819607Z",
          "iopub.execute_input": "2025-08-05T18:15:55.819867Z",
          "iopub.status.idle": "2025-08-05T18:15:56.189724Z",
          "shell.execute_reply.started": "2025-08-05T18:15:55.819845Z",
          "shell.execute_reply": "2025-08-05T18:15:56.189158Z"
        },
        "id": "NMrvZt_0_cJJ"
      },
      "outputs": [],
      "execution_count": null
    },
    {
      "cell_type": "code",
      "source": [
        "del train\n",
        "del featureset\n",
        "del labels\n",
        "gc.collect()"
      ],
      "metadata": {
        "trusted": true,
        "execution": {
          "iopub.status.busy": "2025-08-05T18:15:56.190475Z",
          "iopub.execute_input": "2025-08-05T18:15:56.190676Z",
          "iopub.status.idle": "2025-08-05T18:15:56.425605Z",
          "shell.execute_reply.started": "2025-08-05T18:15:56.19066Z",
          "shell.execute_reply": "2025-08-05T18:15:56.424948Z"
        },
        "id": "M-AAbzxY_cJJ"
      },
      "outputs": [],
      "execution_count": null
    },
    {
      "cell_type": "code",
      "source": [
        "datagen = canaro.generators.imageDataGenerator()\n",
        "train_gen = datagen.flow(x_train,y_train,batch_size = 32)\n"
      ],
      "metadata": {
        "trusted": true,
        "execution": {
          "iopub.status.busy": "2025-08-05T18:16:52.283085Z",
          "iopub.execute_input": "2025-08-05T18:16:52.283668Z",
          "iopub.status.idle": "2025-08-05T18:16:52.287587Z",
          "shell.execute_reply.started": "2025-08-05T18:16:52.283645Z",
          "shell.execute_reply": "2025-08-05T18:16:52.286589Z"
        },
        "id": "ZFvKH_8x_cJJ"
      },
      "outputs": [],
      "execution_count": null
    },
    {
      "cell_type": "code",
      "source": [
        "from tensorflow.keras.models import Sequential\n",
        "from tensorflow.keras.layers import Dense, Flatten, Dropout, Conv2D, MaxPooling2D\n",
        "from tensorflow.keras.optimizers.legacy import SGD\n",
        "\n",
        "output_dim=10\n",
        "\n",
        "w, h = IMG_SIZE[:2]\n",
        "\n",
        "model = Sequential()\n",
        "model.add(Conv2D(32, (3, 3), activation='relu', padding='same', input_shape=(w, h,channels)))\n",
        "model.add(Conv2D(32, (3, 3), activation='relu'))\n",
        "model.add(MaxPooling2D(pool_size=(2, 2)))\n",
        "model.add(Dropout(0.2))\n",
        "\n",
        "model.add(Conv2D(64, (3, 3), padding='same', activation='relu'))\n",
        "model.add(Conv2D(64, (3, 3), activation='relu'))\n",
        "model.add(MaxPooling2D(pool_size=(2, 2)))\n",
        "model.add(Dropout(0.2))\n",
        "\n",
        "model.add(Conv2D(256, (3, 3), padding='same', activation='relu'))\n",
        "model.add(Conv2D(256, (3, 3), activation='relu'))\n",
        "model.add(MaxPooling2D(pool_size=(2, 2)))\n",
        "model.add(Dropout(0.2))\n",
        "\n",
        "model.add(Flatten())\n",
        "model.add(Dropout(0.5))\n",
        "model.add(Dense(1024, activation='relu'))\n",
        "\n",
        "# Output Layer\n",
        "model.add(Dense(output_dim, activation='softmax'))"
      ],
      "metadata": {
        "trusted": true,
        "execution": {
          "iopub.status.busy": "2025-08-05T18:27:29.581194Z",
          "iopub.execute_input": "2025-08-05T18:27:29.581508Z",
          "iopub.status.idle": "2025-08-05T18:27:32.984524Z",
          "shell.execute_reply.started": "2025-08-05T18:27:29.581484Z",
          "shell.execute_reply": "2025-08-05T18:27:32.98392Z"
        },
        "id": "P6xrwP15_cJJ"
      },
      "outputs": [],
      "execution_count": null
    },
    {
      "cell_type": "code",
      "source": [
        "model.summary()"
      ],
      "metadata": {
        "trusted": true,
        "execution": {
          "iopub.status.busy": "2025-08-05T18:27:37.134465Z",
          "iopub.execute_input": "2025-08-05T18:27:37.134715Z",
          "iopub.status.idle": "2025-08-05T18:27:37.156658Z",
          "shell.execute_reply.started": "2025-08-05T18:27:37.134699Z",
          "shell.execute_reply": "2025-08-05T18:27:37.155984Z"
        },
        "id": "Eq-pw3CJ_cJK"
      },
      "outputs": [],
      "execution_count": null
    },
    {
      "cell_type": "code",
      "source": [
        "from tensorflow.keras.optimizers import SGD\n",
        "optimizer = SGD(learning_rate=0.001, decay=1e-7, momentum=0.9, nesterov=True)\n",
        "model.compile(loss='binary_crossentropy', optimizer=optimizer, metrics=['accuracy'])"
      ],
      "metadata": {
        "trusted": true,
        "execution": {
          "iopub.status.busy": "2025-08-05T18:28:54.600774Z",
          "iopub.execute_input": "2025-08-05T18:28:54.601461Z",
          "iopub.status.idle": "2025-08-05T18:28:54.617128Z",
          "shell.execute_reply.started": "2025-08-05T18:28:54.601433Z",
          "shell.execute_reply": "2025-08-05T18:28:54.616464Z"
        },
        "id": "JeeI9aZ3_cJK"
      },
      "outputs": [],
      "execution_count": null
    },
    {
      "cell_type": "code",
      "source": [
        "from tensorflow.keras.callbacks import LearningRateScheduler\n",
        "callbacks = [LearningRateScheduler(canaro.lr_schedule)]"
      ],
      "metadata": {
        "trusted": true,
        "execution": {
          "iopub.status.busy": "2025-08-05T18:29:10.042631Z",
          "iopub.execute_input": "2025-08-05T18:29:10.043301Z",
          "iopub.status.idle": "2025-08-05T18:29:10.046709Z",
          "shell.execute_reply.started": "2025-08-05T18:29:10.043277Z",
          "shell.execute_reply": "2025-08-05T18:29:10.046162Z"
        },
        "id": "e25smlTC_cJK"
      },
      "outputs": [],
      "execution_count": null
    },
    {
      "cell_type": "code",
      "source": [
        "training = model.fit(train_gen,steps_per_epoch = len(x_train)//32,epochs = 10,validation_data=(x_val,y_val),validation_steps=len(y_val)//32,callbacks = callbacks)"
      ],
      "metadata": {
        "trusted": true,
        "execution": {
          "iopub.status.busy": "2025-08-05T18:29:14.249851Z",
          "iopub.execute_input": "2025-08-05T18:29:14.250076Z",
          "iopub.status.idle": "2025-08-05T18:30:19.011566Z",
          "shell.execute_reply.started": "2025-08-05T18:29:14.250061Z",
          "shell.execute_reply": "2025-08-05T18:30:19.010985Z"
        },
        "id": "rNObt2s6_cJK"
      },
      "outputs": [],
      "execution_count": null
    },
    {
      "cell_type": "code",
      "source": [
        "test_path = r'../input/the-simpsons-characters-dataset/kaggle_simpson_testset/kaggle_simpson_testset/charles_montgomery_burns_0.jpg'\n",
        "\n",
        "img = cv.imread(test_path)\n",
        "\n",
        "plt.imshow(img)\n",
        "plt.show()\n",
        "\n",
        "def prepare(image):\n",
        "    image = cv.cvtColor(image, cv.COLOR_BGR2GRAY)\n",
        "    image = cv.resize(image, IMG_SIZE)\n",
        "    image = caer.reshape(image, IMG_SIZE, 1)\n",
        "    return image\n",
        "\n",
        "predictions = model.predict(prepare(img))\n",
        "\n",
        "# Getting class with the highest probability\n",
        "print(charachters[np.argmax(predictions[0])])"
      ],
      "metadata": {
        "trusted": true,
        "execution": {
          "iopub.status.busy": "2025-08-05T18:31:44.557051Z",
          "iopub.execute_input": "2025-08-05T18:31:44.557307Z",
          "iopub.status.idle": "2025-08-05T18:31:44.806013Z",
          "shell.execute_reply.started": "2025-08-05T18:31:44.557291Z",
          "shell.execute_reply": "2025-08-05T18:31:44.805293Z"
        },
        "id": "OdP6EKaN_cJK"
      },
      "outputs": [],
      "execution_count": null
    }
  ]
}